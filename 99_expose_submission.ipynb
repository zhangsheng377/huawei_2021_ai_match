{
 "cells": [
  {
   "cell_type": "code",
   "execution_count": 1,
   "id": "7af221da-7790-4100-bc49-50f46ff3c6a2",
   "metadata": {},
   "outputs": [],
   "source": [
    "import json\n",
    "import random\n",
    "import os\n",
    "import pickle\n",
    "import time\n",
    "import gc\n",
    "import copy\n",
    "\n",
    "from tqdm import tqdm\n",
    "from sklearn.utils.class_weight import compute_class_weight\n",
    "import numpy as np\n",
    "import torch\n",
    "from torch.utils.data import Dataset, DataLoader\n",
    "from torch import nn\n",
    "from torch import optim\n",
    "import torch.nn.functional as F\n",
    "from transformers import AutoTokenizer, AutoModel\n",
    "from sklearn.preprocessing import StandardScaler\n",
    "from sklearn.preprocessing import OneHotEncoder\n",
    "import pandas as pd"
   ]
  },
  {
   "cell_type": "code",
   "execution_count": 8,
   "id": "6d3b7b76-6cc1-4da4-96a6-2c7c66e06da2",
   "metadata": {},
   "outputs": [],
   "source": [
    "submission_path = \"submission_train_second_predict.csv\""
   ]
  },
  {
   "cell_type": "code",
   "execution_count": 9,
   "id": "26f27c88-15ae-4d54-999f-e93a7ee7f550",
   "metadata": {},
   "outputs": [
    {
     "data": {
      "text/html": [
       "<div>\n",
       "<style scoped>\n",
       "    .dataframe tbody tr th:only-of-type {\n",
       "        vertical-align: middle;\n",
       "    }\n",
       "\n",
       "    .dataframe tbody tr th {\n",
       "        vertical-align: top;\n",
       "    }\n",
       "\n",
       "    .dataframe thead th {\n",
       "        text-align: right;\n",
       "    }\n",
       "</style>\n",
       "<table border=\"1\" class=\"dataframe\">\n",
       "  <thead>\n",
       "    <tr style=\"text-align: right;\">\n",
       "      <th></th>\n",
       "      <th>id</th>\n",
       "      <th>predict_doctype</th>\n",
       "    </tr>\n",
       "  </thead>\n",
       "  <tbody>\n",
       "    <tr>\n",
       "      <th>0</th>\n",
       "      <td>0001a2f1-714e-4eca-8d26-d0b173d8d327</td>\n",
       "      <td>情感解读</td>\n",
       "    </tr>\n",
       "    <tr>\n",
       "      <th>1</th>\n",
       "      <td>00028139-6f2c-4321-b3e0-5ddf7c9af4eb</td>\n",
       "      <td>作品分析</td>\n",
       "    </tr>\n",
       "    <tr>\n",
       "      <th>2</th>\n",
       "      <td>00063b7f-03db-430b-857c-b127a970422c</td>\n",
       "      <td>行业解读</td>\n",
       "    </tr>\n",
       "    <tr>\n",
       "      <th>3</th>\n",
       "      <td>0006fe16-ae5d-432b-8fbd-f0653200069c</td>\n",
       "      <td>深度事件</td>\n",
       "    </tr>\n",
       "    <tr>\n",
       "      <th>4</th>\n",
       "      <td>0008fcff-3bd0-4a61-acb3-d995c8871768</td>\n",
       "      <td>深度事件</td>\n",
       "    </tr>\n",
       "    <tr>\n",
       "      <th>...</th>\n",
       "      <td>...</td>\n",
       "      <td>...</td>\n",
       "    </tr>\n",
       "    <tr>\n",
       "      <th>45280</th>\n",
       "      <td>fffb3c23-b4b3-49f0-a9cb-006c9b2b443f</td>\n",
       "      <td>作品分析</td>\n",
       "    </tr>\n",
       "    <tr>\n",
       "      <th>45281</th>\n",
       "      <td>fffbb8c8-1d36-4d12-bc13-4c80e8e1cfea</td>\n",
       "      <td>攻略文</td>\n",
       "    </tr>\n",
       "    <tr>\n",
       "      <th>45282</th>\n",
       "      <td>fffbbe71-1764-49ae-a7d5-475a707c0610</td>\n",
       "      <td>深度事件</td>\n",
       "    </tr>\n",
       "    <tr>\n",
       "      <th>45283</th>\n",
       "      <td>fffbee85-388a-41e6-a0ae-97b3f83f778b</td>\n",
       "      <td>深度事件</td>\n",
       "    </tr>\n",
       "    <tr>\n",
       "      <th>45284</th>\n",
       "      <td>fffd8e19-6f2f-4fbe-8ffe-a27b9b13c4ec</td>\n",
       "      <td>深度事件</td>\n",
       "    </tr>\n",
       "  </tbody>\n",
       "</table>\n",
       "<p>45285 rows × 2 columns</p>\n",
       "</div>"
      ],
      "text/plain": [
       "                                         id predict_doctype\n",
       "0      0001a2f1-714e-4eca-8d26-d0b173d8d327            情感解读\n",
       "1      00028139-6f2c-4321-b3e0-5ddf7c9af4eb            作品分析\n",
       "2      00063b7f-03db-430b-857c-b127a970422c            行业解读\n",
       "3      0006fe16-ae5d-432b-8fbd-f0653200069c            深度事件\n",
       "4      0008fcff-3bd0-4a61-acb3-d995c8871768            深度事件\n",
       "...                                     ...             ...\n",
       "45280  fffb3c23-b4b3-49f0-a9cb-006c9b2b443f            作品分析\n",
       "45281  fffbb8c8-1d36-4d12-bc13-4c80e8e1cfea             攻略文\n",
       "45282  fffbbe71-1764-49ae-a7d5-475a707c0610            深度事件\n",
       "45283  fffbee85-388a-41e6-a0ae-97b3f83f778b            深度事件\n",
       "45284  fffd8e19-6f2f-4fbe-8ffe-a27b9b13c4ec            深度事件\n",
       "\n",
       "[45285 rows x 2 columns]"
      ]
     },
     "execution_count": 9,
     "metadata": {},
     "output_type": "execute_result"
    }
   ],
   "source": [
    "df = pd.read_csv(submission_path)\n",
    "df"
   ]
  },
  {
   "cell_type": "code",
   "execution_count": 10,
   "id": "43c1d711-fed9-4f8f-be54-fb04498c6340",
   "metadata": {},
   "outputs": [
    {
     "data": {
      "text/plain": [
       "count     45285\n",
       "unique       10\n",
       "top        深度事件\n",
       "freq      17494\n",
       "Name: predict_doctype, dtype: object"
      ]
     },
     "execution_count": 10,
     "metadata": {},
     "output_type": "execute_result"
    }
   ],
   "source": [
    "df['predict_doctype'].describe()"
   ]
  },
  {
   "cell_type": "code",
   "execution_count": 11,
   "id": "7431646c-e71c-43fd-a54f-02de6cb92bb5",
   "metadata": {},
   "outputs": [
    {
     "data": {
      "text/plain": [
       "深度事件     17494\n",
       "行业解读     11547\n",
       "治愈系文章     3486\n",
       "作品分析      3116\n",
       "攻略文       2509\n",
       "情感解读      2036\n",
       "科普知识文     1968\n",
       "物品评测      1574\n",
       "人物专栏      1285\n",
       "推荐文        270\n",
       "Name: predict_doctype, dtype: int64"
      ]
     },
     "execution_count": 11,
     "metadata": {},
     "output_type": "execute_result"
    }
   ],
   "source": [
    "# first\n",
    "df['predict_doctype'].value_counts()"
   ]
  },
  {
   "cell_type": "code",
   "execution_count": 7,
   "id": "449c4a0e-945a-44eb-914f-31790105a607",
   "metadata": {},
   "outputs": [
    {
     "data": {
      "text/plain": [
       "深度事件     13800\n",
       "其他       10013\n",
       "行业解读      6376\n",
       "作品分析      3591\n",
       "治愈系文章     2643\n",
       "情感解读      2460\n",
       "攻略文       2432\n",
       "人物专栏      1630\n",
       "科普知识文     1071\n",
       "物品评测       947\n",
       "推荐文        322\n",
       "Name: predict_doctype, dtype: int64"
      ]
     },
     "execution_count": 7,
     "metadata": {},
     "output_type": "execute_result"
    }
   ],
   "source": [
    "# second\n",
    "df['predict_doctype'].value_counts()"
   ]
  },
  {
   "cell_type": "code",
   "execution_count": null,
   "id": "fb23fc76-4d6e-463d-a2b4-64a52ac32a5d",
   "metadata": {},
   "outputs": [],
   "source": []
  }
 ],
 "metadata": {
  "kernelspec": {
   "display_name": "Python 3",
   "language": "python",
   "name": "python3"
  },
  "language_info": {
   "codemirror_mode": {
    "name": "ipython",
    "version": 3
   },
   "file_extension": ".py",
   "mimetype": "text/x-python",
   "name": "python",
   "nbconvert_exporter": "python",
   "pygments_lexer": "ipython3",
   "version": "3.8.11"
  }
 },
 "nbformat": 4,
 "nbformat_minor": 5
}
