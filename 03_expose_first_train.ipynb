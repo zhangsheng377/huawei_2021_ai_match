{
 "cells": [
  {
   "cell_type": "code",
   "execution_count": 1,
   "id": "7af221da-7790-4100-bc49-50f46ff3c6a2",
   "metadata": {},
   "outputs": [],
   "source": [
    "import json\n",
    "import random\n",
    "import os\n",
    "import pickle\n",
    "import time\n",
    "import gc\n",
    "import copy\n",
    "\n",
    "from tqdm import tqdm\n",
    "from sklearn.utils.class_weight import compute_class_weight\n",
    "import numpy as np\n",
    "import torch\n",
    "from torch.utils.data import Dataset, DataLoader\n",
    "from torch import nn\n",
    "from torch import optim\n",
    "import torch.nn.functional as F\n",
    "from transformers import AutoTokenizer, AutoModel\n",
    "from sklearn.preprocessing import StandardScaler\n",
    "from sklearn.preprocessing import OneHotEncoder\n",
    "import pandas as pd"
   ]
  },
  {
   "cell_type": "code",
   "execution_count": 4,
   "id": "6d3b7b76-6cc1-4da4-96a6-2c7c66e06da2",
   "metadata": {},
   "outputs": [],
   "source": [
    "processed_expose_train_unlabel_predict_list_path = \"data/processed_train_expose_unlabel_predict_list.json\"\n",
    "\n",
    "doctype_encoder_path = 'model/doctype_encoder.pickle'"
   ]
  },
  {
   "cell_type": "code",
   "execution_count": 5,
   "id": "d43b0f36-f12a-4a7f-8b15-4a87d4097cda",
   "metadata": {},
   "outputs": [
    {
     "data": {
      "text/plain": [
       "(['作品分析',\n",
       "  '治愈系文章',\n",
       "  '情感解读',\n",
       "  '行业解读',\n",
       "  '科普知识文',\n",
       "  '深度事件',\n",
       "  '推荐文',\n",
       "  '攻略文',\n",
       "  '人物专栏',\n",
       "  '物品评测'],\n",
       " 10)"
      ]
     },
     "execution_count": 5,
     "metadata": {},
     "output_type": "execute_result"
    }
   ],
   "source": [
    "with open (doctype_encoder_path, 'rb') as doctype_encoder_file: \n",
    "    doctype_list =  pickle.load(doctype_encoder_file)\n",
    "doctype_list, len(doctype_list)"
   ]
  },
  {
   "cell_type": "code",
   "execution_count": 14,
   "id": "5e62ed2c-2feb-49cb-a595-52b0a1122724",
   "metadata": {},
   "outputs": [
    {
     "name": "stderr",
     "output_type": "stream",
     "text": [
      "4it [00:00, ?it/s]"
     ]
    },
    {
     "name": "stdout",
     "output_type": "stream",
     "text": [
      "{'id': '0e7671cc-a98d-11eb-8239-7788095c0b0f', 'category': 1, 'doctype': '', 'paragraphs_num': 3, 'pic_num': 0, 'source': '', 'words_len': 739, 'text': '冲3连红，NBA预测：马刺VS鹈鹕，众星缺阵，鹈鹕迎来好机会。鹈鹕上一场比赛他们输给了雄鹿，英格拉姆错失绝平的机会被雄鹿复仇，鹈鹕前面6场比赛仅仅只赢了1场，但是最近的状态有所回暖，先后战胜了凯尔特人和活塞，上一场又和雄鹿打得有来有回，毫无疑问，进攻端的高效发挥是他们获胜的关键，而他们现在似乎有点放弃防守的感觉，放心和对手玩进攻大战，明天面对马刺残阵是个抢分的好机会，锡安几乎可以在内线为所欲为，马刺没人可以跟他对位，另外最近英格拉姆打马刺的锋线几乎也都是错位，所以马刺很难限制住明天鹈鹕的得分，考虑到马刺现在这个阵容得分能力又有限，连对阵雷霆仅仅得到了99分，因此，看好鹈鹕-4.5胜。凯尔特人118:112步行者，昨天分析也很简单，就是相信凯尔特人的天赋和球队文化，面对实力不如自己的步行者会迎来反弹获胜，今天也是如期的跑出，尽管杰伦布朗和塔图姆的双探花组合依旧表现低迷，但是肯巴沃克表现亮眼拿到了33分，另外汤普森和罗威以及蒂格都很高效，最终凭借着第三节一波流的确立了领先优势，有惊无险地拿下了步行者，步行者休息一周之后分别输给了勇士和凯尔特人，接下来他们还要经历非常艰苦的客场密集赛程，可以多多跟踪，烽火最近12中8，希望未来这十天有一个不错的收获，加油，回到主题，分析09:00马刺VS鹈鹕。', 'predict_list': [0.0011266764486208558, 0.01592712476849556, 0.0005940736155025661, 0.24539144337177277, 0.01184074766933918, 0.45812752842903137, 0.0005253106355667114, 0.2501547634601593, 0.007187999784946442, 0.009124280884861946]}\n"
     ]
    },
    {
     "name": "stderr",
     "output_type": "stream",
     "text": [
      "\n"
     ]
    }
   ],
   "source": [
    "with open(processed_expose_train_unlabel_predict_list_path, \"r\", encoding='utf-8') as unlabel_predict_list_file:\n",
    "    for line in tqdm(unlabel_predict_list_file):\n",
    "        json_data = json.loads(line)\n",
    "#         print(json_data)\n",
    "        predict_index = np.argmax(json_data['predict_list'])\n",
    "        predict_label = doctype_list[predict_index]\n",
    "#         print(predict_label)\n",
    "        max_predict_score = max(json_data['predict_list'])\n",
    "        if max_predict_score < 0.5: \n",
    "            print(json_data)\n",
    "            break"
   ]
  },
  {
   "cell_type": "code",
   "execution_count": 13,
   "id": "b87b1e71-b648-4bf5-8ba4-0c83d0ea40de",
   "metadata": {},
   "outputs": [
    {
     "name": "stderr",
     "output_type": "stream",
     "text": [
      "500000it [00:12, 41460.29it/s]\n"
     ]
    },
    {
     "data": {
      "text/plain": [
       "10917"
      ]
     },
     "execution_count": 13,
     "metadata": {},
     "output_type": "execute_result"
    }
   ],
   "source": [
    "count = 0\n",
    "with open(processed_expose_train_unlabel_predict_list_path, \"r\", encoding='utf-8') as unlabel_predict_list_file:\n",
    "    for line in tqdm(unlabel_predict_list_file):\n",
    "        json_data = json.loads(line)\n",
    "#         print(json_data)\n",
    "        predict_index = np.argmax(json_data['predict_list'])\n",
    "        predict_label = doctype_list[predict_index]\n",
    "#         print(predict_label)\n",
    "        max_predict_score = max(json_data['predict_list'])\n",
    "        if max_predict_score < 0.4: \n",
    "#             print(json_data)\n",
    "#             break\n",
    "            count += 1\n",
    "count\n",
    "# <0.4:10917 <0.5:39347 <0.6:85107"
   ]
  },
  {
   "cell_type": "code",
   "execution_count": 15,
   "id": "d299a5cf-830a-4703-ab02-6d051c5f9fd1",
   "metadata": {},
   "outputs": [
    {
     "name": "stderr",
     "output_type": "stream",
     "text": [
      "500000it [00:13, 37936.33it/s]\n"
     ]
    }
   ],
   "source": [
    "with open(processed_expose_train_unlabel_predict_list_path, \"r\", encoding='utf-8') as unlabel_predict_list_file, \\\n",
    "     open(\"data/processed_train_expose_unlabel_predict_other_0.5.json\", \"w\", encoding='utf-8') as unlabel_predict_other_file:\n",
    "    for line in tqdm(unlabel_predict_list_file):\n",
    "        json_data = json.loads(line)\n",
    "        predict_index = np.argmax(json_data['predict_list'])\n",
    "        predict_label = doctype_list[predict_index]\n",
    "        max_predict_score = max(json_data['predict_list'])\n",
    "        if max_predict_score < 0.5: \n",
    "            json_data['doctype'] = '其他'\n",
    "            del json_data['predict_list']\n",
    "            unlabel_predict_other_file.write(f\"{json.dumps(json_data, ensure_ascii=False)}\\n\")"
   ]
  },
  {
   "cell_type": "code",
   "execution_count": 17,
   "id": "47c3a065-6ec7-4007-8dd6-ede9502996dd",
   "metadata": {},
   "outputs": [
    {
     "data": {
      "text/plain": [
       "True"
      ]
     },
     "execution_count": 17,
     "metadata": {},
     "output_type": "execute_result"
    }
   ],
   "source": [
    "type([])==list"
   ]
  },
  {
   "cell_type": "code",
   "execution_count": null,
   "id": "26f27c88-15ae-4d54-999f-e93a7ee7f550",
   "metadata": {},
   "outputs": [],
   "source": []
  }
 ],
 "metadata": {
  "kernelspec": {
   "display_name": "Python 3",
   "language": "python",
   "name": "python3"
  },
  "language_info": {
   "codemirror_mode": {
    "name": "ipython",
    "version": 3
   },
   "file_extension": ".py",
   "mimetype": "text/x-python",
   "name": "python",
   "nbconvert_exporter": "python",
   "pygments_lexer": "ipython3",
   "version": "3.8.11"
  }
 },
 "nbformat": 4,
 "nbformat_minor": 5
}
