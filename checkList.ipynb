{
 "cells": [
  {
   "cell_type": "markdown",
   "source": [
    "- [x] 用bert接3层线性，训练有标注数据。然后给未标注数据打分softmax，选出各类别最大概率小于0.5的30000+个，作为其他类别。（直接对测试集预测，得分0.398140）\r\n",
    "- [ ] ~~用10类别模型预测，最大概率低于0.5打为其他。~~\r\n",
    "- [x] 用bert接3层线性，训练标注数据和上步中生成的未标注数据。测试集得分0.442963。\r\n",
    "- [x] 用步骤一中只用标注数据的模型预测的结果(10个类别的权重)，拼接在输入后面，还是用bert接3层线性，其中步骤一的模型不训练。这样的方法在验证集上，第二个epoch的loss还在降低，之前的模型都是只能一个epoch之后验证集loss就上升了，所以看起来，复杂、大模型是有效的。（得分0.451470）\r\n",
    "- [ ] 尝试cnn\r\n",
    "- [ ] 把tfidf值拼接进来\r\n",
    "- [ ] 拼接进fasttext的10类别概率（直接截断，bert的效果比fasttext好）\r\n",
    "- [x] 尝试多目标。前几个在验证集上的loss总和都是3300左右，但是以bert为共享层，分别训标注的10分类和带其他类别的11分类，两个目标的模型，在验证集上loss总和只有2200左右。\r\n",
    "- [ ] 尝试albert"
   ],
   "metadata": {}
  },
  {
   "cell_type": "code",
   "execution_count": null,
   "source": [],
   "outputs": [],
   "metadata": {}
  }
 ],
 "metadata": {
  "kernelspec": {
   "display_name": "Python 3",
   "language": "python",
   "name": "python3"
  },
  "language_info": {
   "codemirror_mode": {
    "name": "ipython",
    "version": 3
   },
   "file_extension": ".py",
   "mimetype": "text/x-python",
   "name": "python",
   "nbconvert_exporter": "python",
   "pygments_lexer": "ipython3",
   "version": "3.8.11"
  }
 },
 "nbformat": 4,
 "nbformat_minor": 5
}